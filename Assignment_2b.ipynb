{
 "cells": [
  {
   "cell_type": "code",
   "execution_count": 3,
   "metadata": {},
   "outputs": [],
   "source": [
    "import os\n",
    "import codecs\n",
    "import requests\n",
    "from bs4 import BeautifulSoup\n",
    "\n",
    "import pandas as pd\n",
    "import numpy as np"
   ]
  },
  {
   "cell_type": "code",
   "execution_count": 6,
   "metadata": {},
   "outputs": [],
   "source": [
    "def fetch_wikipedia(page='List_of_postal_codes_of_Canada:_M', verbose=False):\n",
    "    url = 'https://en.wikipedia.org/wiki/' + page\n",
    "    page = requests.get(url).text\n",
    "\n",
    "    soup = BeautifulSoup(page, 'html5lib')\n",
    "    if verbose:\n",
    "        print(soup.prettify())\n",
    "\n",
    "    return soup\n",
    "\n",
    "def convert_table(html_soup, name='wiki_table', verbose=False, return_df=True):\n",
    "    tables = html_soup.findAll(\"table\", { \"class\" : \"wikitable\" })\n",
    "    if verbose:\n",
    "        # show tables\n",
    "        for table in tables:\n",
    "            print(\"###############\")\n",
    "            print(table.text[:100])\n",
    "\n",
    "    for tn in range(len(tables)):\n",
    "        table=tables[tn]\n",
    "        \n",
    "        # preinit list of lists\n",
    "        rows=table.findAll(\"tr\")\n",
    "        row_lengths=[len(r.findAll(['th','td'])) for r in rows]\n",
    "        ncols=max(row_lengths)\n",
    "        nrows=len(rows)\n",
    "        data=[]\n",
    "        for i in range(nrows):\n",
    "            rowD=[]\n",
    "            for j in range(ncols):\n",
    "                rowD.append('')\n",
    "            data.append(rowD)\n",
    "\n",
    "        # process html\n",
    "        for i in range(len(rows)):\n",
    "            row=rows[i]\n",
    "            rowD=[]\n",
    "            cells = row.findAll([\"td\",\"th\"])\n",
    "            for j in range(len(cells)):\n",
    "                cell=cells[j]\n",
    "\n",
    "                #lots of cells span cols and rows so lets deal with that\n",
    "                cspan=int(cell.get('colspan',1))\n",
    "                rspan=int(cell.get('rowspan',1))\n",
    "                for k in range(rspan):\n",
    "                    for l in range(cspan):\n",
    "                        data[i+k][j+l]+=cell.text\n",
    "\n",
    "            data.append(rowD)\n",
    "\n",
    "        # write data out\n",
    "            page=name.split('/')[-1]\n",
    "        fname='t{}__{}.csv'.format(tn, page)\n",
    "        f = codecs.open(fname, 'w')#,encoding='utf-8')\n",
    "        for i in range(nrows):\n",
    "            rowStr=','.join(data[i])\n",
    "            rowStr=rowStr.replace('\\n','')\n",
    "            if verbose:\n",
    "                print(rowStr)\n",
    "            rowStr=rowStr#.encode('unicode_escape')\n",
    "            f.write(rowStr+'\\n')    \n",
    "    \n",
    "    f.close()\n",
    "    \n",
    "    if return_df:\n",
    "        return pd.read_csv(fname)\n",
    "    \n",
    "    return fname"
   ]
  },
  {
   "cell_type": "code",
   "execution_count": 1,
   "metadata": {
    "collapsed": false,
    "inputHidden": false,
    "outputHidden": false
   },
   "outputs": [],
   "source": [
    "def postal_codes(raw_df):\n",
    "    postal_codes = raw_df.replace(to_replace='Not assigned', value=np.nan)\n",
    "    postal_codes['Neighbourhood'] = postal_codes.Neighbourhood.fillna(postal_codes.Borough)\n",
    "    \n",
    "    return (postal_codes\n",
    "            .dropna(axis=0)\n",
    "            .sort_values('Neighbourhood')\n",
    "            .groupby(['Postcode', 'Borough'], \n",
    "                     as_index=False,\n",
    "                     sort=False\n",
    "                    )['Neighbourhood']\n",
    "            .agg(lambda col: ', '.join(col)))"
   ]
  },
  {
   "cell_type": "code",
   "execution_count": 2,
   "metadata": {},
   "outputs": [],
   "source": [
    "def scrape_wiki(page):\n",
    "    page_html = fetch_wikipedia(page)\n",
    "    table_df = convert_table(page_html, return_df=True)\n",
    "    \n",
    "    return postal_codes(table_df)"
   ]
  },
  {
   "cell_type": "code",
   "execution_count": null,
   "metadata": {},
   "outputs": [],
   "source": [
    "postcodes_df = scrape_wiki(page='List_of_postal_codes_of_Canada:_M')\n",
    "geo_data = (pd.read_csv('./Geospatial_Coordinates.csv', index_col='Postal Code')\n",
    "              .pipe(postcodes_df.merge, right_index=True, left_on='Postcode'))\n",
    "\n",
    "geo_data.head(10)"
   ]
  }
 ],
 "metadata": {
  "kernel_info": {
   "name": "python3"
  },
  "kernelspec": {
   "display_name": "Python 3",
   "language": "python",
   "name": "python3"
  },
  "language_info": {
   "codemirror_mode": {
    "name": "ipython",
    "version": 3
   },
   "file_extension": ".py",
   "mimetype": "text/x-python",
   "name": "python",
   "nbconvert_exporter": "python",
   "pygments_lexer": "ipython3",
   "version": "3.7.0"
  },
  "nteract": {
   "version": "0.11.9"
  }
 },
 "nbformat": 4,
 "nbformat_minor": 2
}
